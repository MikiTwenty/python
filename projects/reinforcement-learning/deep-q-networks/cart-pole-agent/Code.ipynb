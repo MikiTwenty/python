{
 "cells": [
  {
   "cell_type": "markdown",
   "metadata": {},
   "source": [
    "# Cart Pole Agent"
   ]
  },
  {
   "cell_type": "markdown",
   "metadata": {},
   "source": [
    "### Reinforcment Learning using PyTorch Deep Q-Network Model"
   ]
  },
  {
   "cell_type": "markdown",
   "metadata": {},
   "source": [
    "\n",
    "Michele Ventimiglia - All rights are reserved"
   ]
  },
  {
   "cell_type": "markdown",
   "metadata": {},
   "source": [
    "## Initialization"
   ]
  },
  {
   "cell_type": "markdown",
   "metadata": {},
   "source": [
    "### Libraries"
   ]
  },
  {
   "cell_type": "code",
   "execution_count": 1,
   "metadata": {},
   "outputs": [],
   "source": [
    "import os\n",
    "import sys\n",
    "import time\n",
    "import torch\n",
    "import random\n",
    "import torchinfo\n",
    "import numpy as np\n",
    "import gymnasium as gym\n",
    "import matplotlib.pyplot as plt\n",
    "import torch.nn.functional as F\n",
    "from itertools import count\n",
    "from datetime import datetime\n",
    "from collections import deque\n",
    "from torch.optim import Adam, Optimizer\n",
    "from torch.nn import Module, Linear, MSELoss\n",
    "from torch.optim.lr_scheduler import ReduceLROnPlateau\n",
    "from torch import Tensor, FloatTensor, LongTensor, cuda\n",
    "from typing import Optional, Tuple, List, Union, Deque, Type"
   ]
  },
  {
   "cell_type": "markdown",
   "metadata": {},
   "source": [
    "Get info about Python and the main packages."
   ]
  },
  {
   "cell_type": "code",
   "execution_count": 2,
   "metadata": {},
   "outputs": [
    {
     "name": "stdout",
     "output_type": "stream",
     "text": [
      "[i] Python v3.11.6 (tags/v3.11.6:8b6ee5b, Oct  2 2023, 14:57:12) [MSC v.1935 64 bit (AMD64)]\n",
      "[i] PyTorch v2.1.0.dev20230817+cu121\n",
      "[i] NumPy v1.25.2\n",
      "[i] Gymnasium v0.29.1\n"
     ]
    }
   ],
   "source": [
    "print(f\"[i] Python v{sys.version}\")\n",
    "print(f\"[i] PyTorch v{torch.__version__}\")  # Framework\n",
    "print(f\"[i] NumPy v{np.__version__}\")\n",
    "print(f\"[i] Gymnasium v{gym.__version__}\")  # Environment Simulator"
   ]
  },
  {
   "cell_type": "markdown",
   "metadata": {},
   "source": [
    "### Game Environment Setup"
   ]
  },
  {
   "cell_type": "code",
   "execution_count": 3,
   "metadata": {},
   "outputs": [
    {
     "name": "stdout",
     "output_type": "stream",
     "text": [
      "[i] Environment output shape: 4\n",
      "[i] Environment input shape: 2\n",
      "[i] Display training: True\n"
     ]
    }
   ],
   "source": [
    "show = True\n",
    "env = gym.make(id='CartPole-v1') if not show else gym.make(id='CartPole-v1', render_mode=\"human\")\n",
    "print(f\"[i] Environment output shape: {env.observation_space.shape[0]}\")\n",
    "print(f\"[i] Environment input shape: {env.action_space.n}\")\n",
    "print(f\"[i] Display training: {show}\")"
   ]
  },
  {
   "cell_type": "markdown",
   "metadata": {},
   "source": [
    "### Cuda Setup"
   ]
  },
  {
   "cell_type": "code",
   "execution_count": 4,
   "metadata": {},
   "outputs": [
    {
     "name": "stdout",
     "output_type": "stream",
     "text": [
      "[i] 1 GPU detected.\n",
      "[i] GPU 0: NVIDIA GeForce RTX 3050 Laptop GPU\n",
      "[i] Using device(s): cuda:0\n"
     ]
    }
   ],
   "source": [
    "device = torch.device('cpu')\n",
    "\n",
    "if cuda.is_available():\n",
    "    if not cuda.is_initialized():\n",
    "        cuda.init()\n",
    "    num_gpus = cuda.device_count()\n",
    "    if num_gpus > 1:\n",
    "        print(f\"[i] {num_gpus} GPUs detected. Using DataParallel.\")\n",
    "        device = [torch.device(f\"cuda:{i}\") for i in range(num_gpus)]\n",
    "    else:\n",
    "        print(\"[i] 1 GPU detected.\")\n",
    "        device = torch.device(\"cuda:0\")\n",
    "    for i in range(num_gpus):\n",
    "        print(f\"[i] GPU {i}: {cuda.get_device_name(i)}\")\n",
    "    cuda.empty_cache()\n",
    "else:\n",
    "    print(\"[!] CUDA unavailable\")\n",
    "print(f\"[i] Using device(s): {device}\")"
   ]
  },
  {
   "cell_type": "markdown",
   "metadata": {},
   "source": [
    "## Deep Q-Network"
   ]
  },
  {
   "cell_type": "markdown",
   "metadata": {},
   "source": [
    "### Model Architecture"
   ]
  },
  {
   "cell_type": "code",
   "execution_count": 5,
   "metadata": {},
   "outputs": [],
   "source": [
    "class DQN(Module):\n",
    "    def __init__(\n",
    "            self,\n",
    "            input_dim: int, \n",
    "            output_dim: int,\n",
    "            verbose: bool = True\n",
    "        ) -> None:\n",
    "        super().__init__()\n",
    "        \n",
    "        # input dimension\n",
    "        self.input_dim = input_dim\n",
    "        \n",
    "        # output dimension\n",
    "        self.output_dim = output_dim\n",
    "        \n",
    "        # dense layer 1\n",
    "        self.fc1 = Linear(input_dim, 128)\n",
    "        \n",
    "        # dense layer 2 \n",
    "        self.fc2 = Linear(128, 128)\n",
    "        \n",
    "        # dense layer 3\n",
    "        self.fc3 = Linear(128, output_dim)\n",
    "        \n",
    "        # display moodel summary\n",
    "        if verbose: self.summary()\n",
    "    \n",
    "    def forward(\n",
    "            self,\n",
    "            x: Tensor\n",
    "        ) -> Tensor:\n",
    "        \n",
    "        # activation function 1\n",
    "        x = F.leaky_relu(self.fc1(x)) \n",
    "        \n",
    "        # activation function 2 \n",
    "        x = F.leaky_relu(self.fc2(x))\n",
    "        \n",
    "        return self.fc3(x)\n",
    "    \n",
    "    def summary(self) -> None:\n",
    "        torchinfo.summary(\n",
    "            model = self.to('cuda' if torch.cuda.is_available() else 'cpu'),\n",
    "            input_size = (self.input_dim,),\n",
    "            verbose = True\n",
    "        )"
   ]
  },
  {
   "cell_type": "markdown",
   "metadata": {},
   "source": [
    "### Agent"
   ]
  },
  {
   "cell_type": "code",
   "execution_count": 6,
   "metadata": {},
   "outputs": [],
   "source": [
    "class Agent:\n",
    "    def __init__(\n",
    "            self,\n",
    "            input_dim: int,\n",
    "            output_dim: int,\n",
    "            memory_size: int,\n",
    "            epsilon_start: float,\n",
    "            learning_rate: float,\n",
    "            device: torch.device = 'cpu',\n",
    "            optimizer: Type[Optimizer] = Adam,\n",
    "            loss: Module = MSELoss(),\n",
    "            verbose: bool = True,\n",
    "        ) -> None:\n",
    "        self.device = device\n",
    "        \n",
    "        # model initialization\n",
    "        self.q_network = DQN(input_dim, output_dim, verbose).float().to(self.device)\n",
    "        self.optimizer = optimizer(self.q_network.parameters(), lr=learning_rate)\n",
    "        self.loss_fn = loss\n",
    "        \n",
    "        self.memory: Deque[Tuple[Union[np.ndarray, List[float]], int, float, Union[np.ndarray, List[float]], bool]] = deque(maxlen=memory_size)\n",
    "        self.epsilon = epsilon_start\n",
    "    \n",
    "    def to(\n",
    "            self,\n",
    "            device: torch.device\n",
    "        ) -> None:\n",
    "        self.device = device\n",
    "\n",
    "    def choose_action(\n",
    "            self,\n",
    "            state: Union[np.ndarray, List[float]]\n",
    "        ) -> int:\n",
    "        # decide whether to take a random action based on epsilon\n",
    "        if random.random() < self.epsilon:\n",
    "            return random.choice([0, 1])\n",
    "        else:\n",
    "            # predict the Q-values for the state and choose the action with the highest Q-value\n",
    "            with torch.no_grad():\n",
    "                return torch.argmax(self.q_network(FloatTensor(state).to(self.device))).item()\n",
    "\n",
    "    def store_transition(\n",
    "            self,\n",
    "            state: Union[np.ndarray, List[float]],\n",
    "            action: int,\n",
    "            reward: float,\n",
    "            next_state: Union[np.ndarray, List[float]],\n",
    "            done: bool\n",
    "        ) -> None:\n",
    "        self.memory.append((state, action, reward, next_state, done))\n",
    "\n",
    "    def train(\n",
    "            self,\n",
    "            batch_size: int,\n",
    "            gamma: float,\n",
    "            epsilon_end: float,\n",
    "            epsilon_decay: float\n",
    "        ) -> None:\n",
    "        if len(self.memory) < batch_size:\n",
    "            return\n",
    "        \n",
    "        # sample a random batch of experiences from memory and unpack it\n",
    "        batch = random.sample(self.memory, batch_size)\n",
    "        states, actions, rewards, next_states, dones = zip(*batch)\n",
    "        states = FloatTensor(np.array(states)).to(self.device)\n",
    "        actions = LongTensor(actions).unsqueeze(1).to(self.device)\n",
    "        rewards = FloatTensor(rewards).unsqueeze(1).to(self.device)\n",
    "        next_states = FloatTensor(np.array(next_states)).to(self.device)\n",
    "        dones = FloatTensor(dones).unsqueeze(1).to(self.device)\n",
    "\n",
    "        # calculate the current Q-values\n",
    "        current_q_values = self.q_network(states).gather(1, actions)\n",
    "        # calculate the Q-values for the next states\n",
    "        next_q_values = self.q_network(next_states).max(1)[0].unsqueeze(1)\n",
    "        # calculate the target Q-values using the Bellman equation\n",
    "        target_q_values = rewards + (1 - dones) * gamma * next_q_values\n",
    "\n",
    "        # compute the loss and zero the gradients\n",
    "        loss = self.loss_fn(current_q_values, target_q_values)\n",
    "        self.optimizer.zero_grad()\n",
    "        \n",
    "        # backpropagate the loss and update the weights\n",
    "        loss.backward()\n",
    "        self.optimizer.step()\n",
    "\n",
    "        # decay the exploration rate\n",
    "        self.epsilon = max(epsilon_end, epsilon_decay * self.epsilon)\n"
   ]
  },
  {
   "cell_type": "markdown",
   "metadata": {},
   "source": [
    "## Training"
   ]
  },
  {
   "cell_type": "markdown",
   "metadata": {},
   "source": [
    "### Early Stopping"
   ]
  },
  {
   "cell_type": "code",
   "execution_count": 7,
   "metadata": {},
   "outputs": [],
   "source": [
    "class EarlyStopping:\n",
    "    def __init__(\n",
    "            self,\n",
    "            patience: int = 5,  # number of epochs with no improvement after which training will be stopped\n",
    "            min_delta: float = 0.01,  # minimum change in the monitored parameter to qualify as an improvement\n",
    "            mode: str = 'min',   # mode for determining when an improvement occurred ('min' or 'max')\n",
    "            save_folder: str = './',\n",
    "            verbose: bool = True\n",
    "        ) -> None:\n",
    "        assert mode in ['min', 'max'], \"Mode must be either 'min' or 'max'\"\n",
    "        self.save_folder = save_folder\n",
    "        self.patience = patience \n",
    "        self.min_delta = min_delta\n",
    "        self.mode = mode\n",
    "        self.best_batch_param = np.inf if mode == 'min' else -np.inf\n",
    "        self.best_param = np.inf if mode == 'min' else -np.inf\n",
    "        self.best_epoch_overall: Optional[int] = None\n",
    "        self.counter = 0\n",
    "        self.best_epoch_batch: Optional[int] = None\n",
    "        self.verbose = verbose\n",
    "\n",
    "    def get_checkpoint_path(self) -> str:\n",
    "        timestamp = datetime.now().strftime('%Y%m%d_%H%M%S')\n",
    "        save_path = os.path.join(self.save_folder, f'checkpoint_{timestamp}.pth')\n",
    "        return save_path\n",
    "\n",
    "    def check_improvement(\n",
    "            self,\n",
    "            parameter: float,\n",
    "            best_param: float\n",
    "        ) -> bool:\n",
    "        if self.mode == 'min':\n",
    "            return parameter < best_param - self.min_delta\n",
    "        else:\n",
    "            return parameter > best_param + self.min_delta\n",
    "\n",
    "    def check_batch(\n",
    "            self,\n",
    "            parameter: float,\n",
    "            epoch: int,\n",
    "            model: Module,\n",
    "            optimizer: Optimizer,\n",
    "        ) -> bool:\n",
    "        # save a checkpoint (model and optimizer current state)\n",
    "        checkpoint = {\n",
    "            'epoch': epoch,\n",
    "            'model_state_dict': model.state_dict(),\n",
    "            'optimizer_state_dict': optimizer.state_dict(),\n",
    "            'best_param': self.best_param\n",
    "        }\n",
    "        torch.save(checkpoint, self.get_checkpoint_path())\n",
    "\n",
    "        # check if the current parameter is an improvement for the batch\n",
    "        if self.check_improvement(parameter, self.best_batch_param):\n",
    "            self.best_batch_param = parameter\n",
    "            self.best_epoch_batch = epoch\n",
    "            self.counter = 0\n",
    "        else:\n",
    "            self.counter += 1\n",
    "            if self.verbose:\n",
    "                print(f\"[!] No improvement in the last batch: [{self.counter}/{self.patience}]\")\n",
    "            if self.counter >= self.patience:\n",
    "                if self.verbose:\n",
    "                    print(f\"[!] Early stopping triggered at epoch {epoch+1}.\")\n",
    "                return True\n",
    "        return False\n",
    "\n",
    "    def check_episode(\n",
    "            self,\n",
    "            parameter: float,\n",
    "            epoch: int,\n",
    "            model: Module,\n",
    "            optimizer: Optimizer\n",
    "        ) -> bool:\n",
    "        # check if the current parameter is an overall improvement\n",
    "        if self.check_improvement(parameter, self.best_param):\n",
    "            self.best_param = parameter\n",
    "            self.best_epoch_overall = epoch\n",
    "            checkpoint = {\n",
    "                'epoch': epoch,\n",
    "                'model_state_dict': model.state_dict(),\n",
    "                'optimizer_state_dict': optimizer.state_dict(),\n",
    "                'best_param': self.best_param\n",
    "            }\n",
    "            \n",
    "            # save the best state of the model\n",
    "            torch.save(checkpoint, os.path.join(self.save_folder, 'best_weights.pth'))\n",
    "            return True\n",
    "        return False\n",
    "\n",
    "    def __call__(\n",
    "            self,\n",
    "            parameter: float,\n",
    "            epoch: int,\n",
    "            model: Module,\n",
    "            optimizer: Optimizer,\n",
    "            batch: bool = False\n",
    "        ) -> bool:\n",
    "        if batch:\n",
    "            return self.check_batch(parameter, epoch, model, optimizer)\n",
    "        else:\n",
    "            return self.check_episode(parameter, epoch, model, optimizer)\n",
    "\n",
    "    def restore(\n",
    "            self,\n",
    "            model: Module,\n",
    "            optimizer: Optional[Optimizer] = None\n",
    "        ) -> Tuple[Module, Optional[Optimizer], Optional[int], Optional[int]]:\n",
    "        checkpoint = torch.load(os.path.join(self.save_folder, 'best_weights.pth'))\n",
    "        model.load_state_dict(checkpoint['model_state_dict'])\n",
    "        \n",
    "        if optimizer:\n",
    "            optimizer.load_state_dict(checkpoint['optimizer_state_dict'])\n",
    "        best_param = checkpoint['best_param']\n",
    "        \n",
    "        if self.verbose:\n",
    "            print(f\"[i] Model restored to the best state from epoch {self.best_epoch_overall-1}.\")\n",
    "            \n",
    "        return model, optimizer, self.best_epoch_overall, best_param"
   ]
  },
  {
   "cell_type": "markdown",
   "metadata": {},
   "source": [
    "### Hyperparameters"
   ]
  },
  {
   "cell_type": "code",
   "execution_count": 8,
   "metadata": {},
   "outputs": [],
   "source": [
    "GAMMA: float = 0.99\n",
    "EPSILON_START: float = 1.0\n",
    "EPSILON_END: float = 0.01\n",
    "EPSILON_DECAY: float = 0.995\n",
    "LEARNING_RATE: float = 0.001\n",
    "BATCH_SIZE: int = 64\n",
    "MEMORY_SIZE: int = 10000\n",
    "CHECKPOINT_FOLDER: os.PathLike = \"./checkpoints/\"\n",
    "optimizer: Type[Optimizer] = Adam\n",
    "loss = MSELoss()"
   ]
  },
  {
   "cell_type": "markdown",
   "metadata": {},
   "source": [
    "We create classes for the Agent, the Early Stopping and the Learning Rate Scheduler:"
   ]
  },
  {
   "cell_type": "code",
   "execution_count": 9,
   "metadata": {},
   "outputs": [
    {
     "name": "stdout",
     "output_type": "stream",
     "text": [
      "==========================================================================================\n",
      "Layer (type:depth-idx)                   Output Shape              Param #\n",
      "==========================================================================================\n",
      "DQN                                      [2]                       --\n",
      "├─Linear: 1-1                            [128]                     640\n",
      "├─Linear: 1-2                            [128]                     16,512\n",
      "├─Linear: 1-3                            [2]                       258\n",
      "==========================================================================================\n",
      "Total params: 17,410\n",
      "Trainable params: 17,410\n",
      "Non-trainable params: 0\n",
      "Total mult-adds (Units.MEGABYTES): 2.20\n",
      "==========================================================================================\n",
      "Input size (MB): 0.00\n",
      "Forward/backward pass size (MB): 0.00\n",
      "Params size (MB): 0.07\n",
      "Estimated Total Size (MB): 0.07\n",
      "==========================================================================================\n"
     ]
    }
   ],
   "source": [
    "agent = Agent(\n",
    "    input_dim = env.observation_space.shape[0],\n",
    "    output_dim = env.action_space.n,\n",
    "    memory_size = MEMORY_SIZE,\n",
    "    epsilon_start = EPSILON_START,\n",
    "    learning_rate = LEARNING_RATE,\n",
    "    optimizer = optimizer,\n",
    "    loss = loss,\n",
    "    device = device,\n",
    "    verbose = True\n",
    ")"
   ]
  },
  {
   "cell_type": "code",
   "execution_count": 10,
   "metadata": {},
   "outputs": [],
   "source": [
    "early_stopping = EarlyStopping(\n",
    "    patience = 3,\n",
    "    min_delta = 0,\n",
    "    mode = 'max',\n",
    "    save_folder = CHECKPOINT_FOLDER,\n",
    "    verbose = True\n",
    ")"
   ]
  },
  {
   "cell_type": "code",
   "execution_count": 11,
   "metadata": {},
   "outputs": [],
   "source": [
    "lr_scheduler = ReduceLROnPlateau(\n",
    "    agent.optimizer,\n",
    "    mode = 'min',\n",
    "    factor = 0.5,\n",
    "    patience = 3,\n",
    "    verbose = True\n",
    ")"
   ]
  },
  {
   "cell_type": "markdown",
   "metadata": {},
   "source": [
    "We define a function to format the time that will be displayed:"
   ]
  },
  {
   "cell_type": "code",
   "execution_count": 12,
   "metadata": {},
   "outputs": [],
   "source": [
    "def format_time(seconds_elapsed):\n",
    "    hours, remainder = divmod(seconds_elapsed, 3600)\n",
    "    minutes, seconds = divmod(remainder, 60)\n",
    "    milliseconds = int((seconds_elapsed % 1) * 1000)\n",
    "    return f\"{int(hours)}h-{int(minutes)}m-{int(seconds)}s-{milliseconds:03}ms\""
   ]
  },
  {
   "cell_type": "markdown",
   "metadata": {},
   "source": [
    "### Training Loop"
   ]
  },
  {
   "cell_type": "code",
   "execution_count": 13,
   "metadata": {},
   "outputs": [
    {
     "name": "stdout",
     "output_type": "stream",
     "text": [
      "[i] Training on cuda:0...\n",
      "Episodes: [0-10] - Avg Reward: 28 - Max Reward: 68 - Batch Time: 0h-0m-6s-943ms           \n",
      "Episodes: [10-20] - Avg Reward: 46 - Max Reward: 68 - Batch Time: 0h-0m-9s-784ms           \n",
      "Episodes: [20-30] - Avg Reward: 83 - Max Reward: 124 - Batch Time: 0h-0m-17s-426ms           \n",
      "Episodes: [30-40] - Avg Reward: 144 - Max Reward: 293 - Batch Time: 0h-0m-29s-841ms           \n",
      "Episodes: [40-50] - Avg Reward: 171 - Max Reward: 293 - Batch Time: 0h-0m-35s-389ms           \n",
      "Episodes: [50-60] - Avg Reward: 147 - Max Reward: 293 - Batch Time: 0h-0m-30s-606ms           \n",
      "[!] No improvement in the last batch: [1/3]\n",
      "Episodes: [60-70] - Avg Reward: 202 - Max Reward: 293 - Batch Time: 0h-0m-41s-837ms           \n",
      "Episodes: [70-80] - Avg Reward: 173 - Max Reward: 293 - Batch Time: 0h-0m-35s-812ms           \n",
      "[!] No improvement in the last batch: [1/3]\n",
      "Episodes: [80-90] - Avg Reward: 201 - Max Reward: 293 - Batch Time: 0h-0m-41s-574ms           \n",
      "[!] No improvement in the last batch: [2/3]\n",
      "Episodes: [90-100] - Avg Reward: 326 - Max Reward: 402 - Batch Time: 0h-1m-7s-391ms           \n",
      "Episodes: [100-110] - Avg Reward: 425 - Max Reward: 600 - Batch Time: 0h-1m-27s-773ms           \n",
      "Episodes: [110-120] - Avg Reward: 891 - Max Reward: 3407 - Batch Time: 0h-3m-3s-629ms           \n",
      "Episodes: [120-130] - Avg Reward: 2245 - Max Reward: 8197 - Batch Time: 0h-7m-42s-099ms           \n",
      "Episodes: [130-140] - Avg Reward: 619 - Max Reward: 8197 - Batch Time: 0h-2m-7s-751ms           \n",
      "[!] No improvement in the last batch: [1/3]\n",
      "Episodes: [140-150] - Avg Reward: 221 - Max Reward: 8197 - Batch Time: 0h-0m-45s-797ms           \n",
      "[!] No improvement in the last batch: [2/3]\n",
      "Episodes: [150-160] - Avg Reward: 216 - Max Reward: 8197 - Batch Time: 0h-0m-44s-761ms           \n",
      "[!] No improvement in the last batch: [3/3]\n",
      "[!] Early stopping triggered at epoch 161.\n",
      "[i] Model restored to the best state from epoch 129.\n",
      "[i] Training complete. Total Elapsed Time: 0h-21m-8s-551ms\n"
     ]
    }
   ],
   "source": [
    "EPISODES_BATCH = 10  # number of episodes to group together for batch processing and evaluation (without too many fluctuations)\n",
    "\n",
    "history = []\n",
    "avg_rewards = []\n",
    "\n",
    "print(f\"[i] Training on {device}...\")\n",
    "\n",
    "start_time = time.time()\n",
    "\n",
    "try:  # handles interruptions\n",
    "    # main training loop, iterating over episodes\n",
    "    for _, episode in enumerate(count(start=1)):\n",
    "        if episode % EPISODES_BATCH == 1:\n",
    "            batch_start_time = time.time()\n",
    "\n",
    "        episode_start_time = time.time()\n",
    "\n",
    "        # reset the environment and initialize variables for the episode\n",
    "        state, _ = env.reset()\n",
    "        episode_reward = 0\n",
    "        done = False\n",
    "\n",
    "        # episode loop\n",
    "        while not done:\n",
    "            action = agent.choose_action(state)  # select an ation\n",
    "            next_state, reward, done, _, _ = env.step(action)  # execute the action\n",
    "            agent.store_transition(state, action, reward, next_state, done)  # save in memory\n",
    "            agent.train(BATCH_SIZE, GAMMA, EPSILON_END, EPSILON_DECAY)  # train the agent\n",
    "            episode_reward += reward  # get the reward\n",
    "            state = next_state  # update the state\n",
    "        \n",
    "        # Store the episode's reward and compute the average reward over the last ten episodes\n",
    "        history.append(episode_reward)\n",
    "        avg_rewards.append(np.mean(history[-EPISODES_BATCH:]))\n",
    "        \n",
    "        # check for early stopping based on the reward of the current episode\n",
    "        early_stopping(episode_reward, episode, agent.q_network, agent.optimizer)\n",
    "\n",
    "        # print info about the training\n",
    "        progress = int((episode % EPISODES_BATCH) / EPISODES_BATCH * 10)\n",
    "        progress_bar = \"=\"*progress + \">\" + \".\"*(10-progress)\n",
    "        avg_reward = np.average(history[-10:])\n",
    "        elapsed_time = format_time(time.time() - start_time)\n",
    "        episode_time = format_time(time.time() - episode_start_time)\n",
    "        print(f\"[{progress_bar}] Episode: {episode}  - Reward: {int(episode_reward)} - Episode Time: {episode_time} {' '*10}\", end='\\r')\n",
    "        \n",
    "        if episode % EPISODES_BATCH == 0:\n",
    "            batch_time = format_time(time.time() - batch_start_time)\n",
    "            print(f\"Episodes: [{episode-EPISODES_BATCH}-{episode}] - Avg Reward: {int(avg_reward)} - Max Reward: {int(np.max(history))} - Batch Time: {batch_time} {' '*10}\")\n",
    "            \n",
    "            # check for early stopping based on the average reward of the batch of episodes\n",
    "            if early_stopping(avg_reward, episode, agent.q_network, agent.optimizer, batch=True):\n",
    "                break\n",
    "                \n",
    "            # adjust the learning rate based on the recent performance\n",
    "            lr_scheduler.step(-avg_rewards[-1])\n",
    "\n",
    "except KeyboardInterrupt:  # allow for manual interruption of the training loop\n",
    "    print(\"\\n[i] Training interrupted by user.\")\n",
    "\n",
    "finally:\n",
    "    # close the environment if it was being displayed\n",
    "    if show: \n",
    "        env.close()\n",
    "\n",
    "    # restore the best model and optimizer states from the training\n",
    "    agent.q_network, agent.optimizer, best_epoch, best_score = early_stopping.restore(agent.q_network, agent.optimizer)\n",
    "\n",
    "    total_elapsed_time = format_time(time.time() - start_time)\n",
    "    print(f\"[i] Training complete. Total Elapsed Time: {total_elapsed_time}\")"
   ]
  },
  {
   "cell_type": "markdown",
   "metadata": {},
   "source": [
    "## Model Evalutation"
   ]
  },
  {
   "cell_type": "code",
   "execution_count": 14,
   "metadata": {},
   "outputs": [
    {
     "data": {
      "image/png": "[encoded data removed]",
      "text/plain": [
       "<Figure size 640x480 with 1 Axes>"
      ]
     },
     "metadata": {},
     "output_type": "display_data"
    }
   ],
   "source": [
    "plt.plot(history, label=\"Reward Score\")\n",
    "\n",
    "plt.axvline(\n",
    "    best_epoch-1,\n",
    "    label='Restored model weights',\n",
    "    color='red',\n",
    "    linestyle='--'\n",
    ")\n",
    "\n",
    "# Create custom legend entries\n",
    "legend_elements = [\n",
    "    plt.Line2D(\n",
    "        [0], [0],\n",
    "        color = 'blue',\n",
    "        lw = 2,\n",
    "        label = \"Reward Score\"\n",
    "    ),\n",
    "    plt.Line2D(\n",
    "        [0], [0],\n",
    "        color = 'red',\n",
    "        linestyle = '--',\n",
    "        lw = 2,\n",
    "        label=  'Restored Model'\n",
    "    ),\n",
    "    plt.Line2D(\n",
    "        [0], [0],\n",
    "        marker = 'o',\n",
    "        color = 'w',\n",
    "        markerfacecolor = 'red',\n",
    "        markersize = 10,\n",
    "        label = f'Best Epoch: {best_epoch-1}\\nBest Score: {int(best_score)}'\n",
    "    )\n",
    "]\n",
    "\n",
    "plt.legend(handles=legend_elements, loc='upper left')\n",
    "\n",
    "plt.title(\"Training Rewards\")\n",
    "plt.xlabel(\"Episode\")\n",
    "plt.ylabel(\"Reward\")\n",
    "plt.tight_layout()\n",
    "plt.show()"
   ]
  },
  {
   "cell_type": "markdown",
   "metadata": {},
   "source": [
    "## Model Testing"
   ]
  },
  {
   "cell_type": "markdown",
   "metadata": {},
   "source": [
    "We load the best optimizer and the best model weights: "
   ]
  },
  {
   "cell_type": "code",
   "execution_count": 15,
   "metadata": {},
   "outputs": [
    {
     "name": "stdout",
     "output_type": "stream",
     "text": [
      "[i] Loaded checkpoint at epoch 129 with best reward of 8197.\n"
     ]
    }
   ],
   "source": [
    "checkpoint = torch.load(os.path.join(CHECKPOINT_FOLDER, \"best_weights.pth\"))\n",
    "agent.q_network.load_state_dict(checkpoint['model_state_dict'])\n",
    "agent.optimizer.load_state_dict(checkpoint['optimizer_state_dict'])\n",
    "print(f\"[i] Loaded checkpoint at epoch {checkpoint['epoch']-1} with best reward of {int(checkpoint['best_param'])}.\")"
   ]
  },
  {
   "cell_type": "markdown",
   "metadata": {},
   "source": [
    "### Game Simulation"
   ]
  },
  {
   "cell_type": "code",
   "execution_count": 16,
   "metadata": {},
   "outputs": [
    {
     "name": "stdout",
     "output_type": "stream",
     "text": [
      "[i] Testing on cuda:0...\n",
      "[!] Testing interrupted by user.\n",
      "[i] Testing terminated. Total Elapsed Time: 0h-31m-53s-005ms\n"
     ]
    }
   ],
   "source": [
    "env = gym.make('CartPole-v1', render_mode=\"human\")\n",
    "\n",
    "print(f\"[i] Testing on {device}...\")\n",
    "\n",
    "try:\n",
    "    for episode in count(start=1):\n",
    "        start_time = time.time()\n",
    "        \n",
    "        state, _ = env.reset()\n",
    "        done = False\n",
    "        \n",
    "        while not done:\n",
    "            action = agent.choose_action(state)\n",
    "            next_state, reward, done, _, _ = env.step(action)\n",
    "            episode_reward += reward\n",
    "            state = next_state\n",
    "            \n",
    "            test_time = format_time(time.time() - start_time)\n",
    "            print(f\"Elapsed Time: {test_time}\", end='\\r')\n",
    "            \n",
    "except KeyboardInterrupt:\n",
    "    print(\"[!] Testing interrupted by user.\")\n",
    "\n",
    "finally:\n",
    "    env.close()\n",
    "    \n",
    "    total_elapsed_time = format_time(time.time() - start_time)\n",
    "    print(f\"[i] Testing terminated. Total Elapsed Time: {total_elapsed_time}\")"
   ]
  }
 ],
 "metadata": {
  "kernelspec": {
   "display_name": "virtual",
   "language": "python",
   "name": "python3"
  },
  "language_info": {
   "codemirror_mode": {
    "name": "ipython",
    "version": 3
   },
   "file_extension": ".py",
   "mimetype": "text/x-python",
   "name": "python",
   "nbconvert_exporter": "python",
   "pygments_lexer": "ipython3",
   "version": "3.11.5"
  }
 },
 "nbformat": 4,
 "nbformat_minor": 2
}
